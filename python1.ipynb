{
 "cells": [
  {
   "cell_type": "code",
   "execution_count": 2,
   "id": "9d8e1155",
   "metadata": {},
   "outputs": [
    {
     "name": "stdout",
     "output_type": "stream",
     "text": [
      "3 2\n"
     ]
    }
   ],
   "source": [
    "a,b=map(int,input().split())\n",
    "print(b,a)"
   ]
  },
  {
   "cell_type": "code",
   "execution_count": 5,
   "id": "e13c8c5d",
   "metadata": {},
   "outputs": [
    {
     "name": "stdout",
     "output_type": "stream",
     "text": [
      "3 2\n"
     ]
    }
   ],
   "source": [
    "a,b=map(int,input().split())\n",
    "b=a+b\n",
    "a=b-a\n",
    "b=b-a\n",
    "print(a,b)\n"
   ]
  },
  {
   "cell_type": "code",
   "execution_count": 13,
   "id": "0b7da05b",
   "metadata": {},
   "outputs": [
    {
     "name": "stdout",
     "output_type": "stream",
     "text": [
      "ih\n"
     ]
    }
   ],
   "source": [
    "st=input()\n",
    "rev=''.join(reversed(st))\n",
    "print(rev)\n"
   ]
  },
  {
   "cell_type": "code",
   "execution_count": 17,
   "id": "c67c1d27",
   "metadata": {},
   "outputs": [
    {
     "name": "stdout",
     "output_type": "stream",
     "text": [
      "Yes\n"
     ]
    }
   ],
   "source": [
    "num = int(input(\"Enter a number: \"))\n",
    "temp = num\n",
    "n = len(str(num))   \n",
    "total = 0\n",
    "\n",
    "while temp > 0:\n",
    "    digit = temp % 10\n",
    "    total += digit ** n    \n",
    "    temp //= 10\n",
    "\n",
    "if total == num:\n",
    "    print(\"Yes\")\n",
    "else:\n",
    "    print(\"No\")\n"
   ]
  },
  {
   "cell_type": "code",
   "execution_count": 24,
   "id": "d3593bfe",
   "metadata": {},
   "outputs": [
    {
     "name": "stdout",
     "output_type": "stream",
     "text": [
      "vowels\n",
      "5\n",
      "consonents\n",
      "2\n"
     ]
    }
   ],
   "source": [
    "st=input()\n",
    "l=['a','e','i','o','u']\n",
    "c1=0\n",
    "c2=0\n",
    "for st1 in st.split():\n",
    "    for i in st1.lower():\n",
    "        if i in l:\n",
    "            c1=c1+1\n",
    "        else:\n",
    "            c2=c2+1\n",
    "print(\"vowels\",c1,\"consonents\",c2,sep=\"\\n\")"
   ]
  },
  {
   "cell_type": "code",
   "execution_count": 26,
   "id": "00275554",
   "metadata": {},
   "outputs": [
    {
     "name": "stdout",
     "output_type": "stream",
     "text": [
      "2 * 1 = 2\n",
      "2 * 2 = 4\n",
      "2 * 3 = 6\n",
      "2 * 4 = 8\n",
      "2 * 5 = 10\n",
      "2 * 6 = 12\n",
      "2 * 7 = 14\n",
      "2 * 8 = 16\n",
      "2 * 9 = 18\n",
      "2 * 10 = 20\n"
     ]
    }
   ],
   "source": [
    "n=int(input())\n",
    "for i in range(1,11):\n",
    "    print(n,\"*\",i,\"=\",n*i,end=\"\\n\")\n"
   ]
  },
  {
   "cell_type": "code",
   "execution_count": 29,
   "id": "9e80b96a",
   "metadata": {},
   "outputs": [
    {
     "name": "stdout",
     "output_type": "stream",
     "text": [
      "no\n"
     ]
    }
   ],
   "source": [
    "year=int(input())\n",
    "if((year%4==0 and year%100!=0) or year%400==0):\n",
    "    print(\"yes\")\n",
    "else:\n",
    "    print(\"no\")"
   ]
  },
  {
   "cell_type": "code",
   "execution_count": 31,
   "id": "57dbfb96",
   "metadata": {},
   "outputs": [
    {
     "name": "stdout",
     "output_type": "stream",
     "text": [
      "12\n"
     ]
    }
   ],
   "source": [
    "a,b,c,d,e=map(int,input().split())\n",
    "print(max(a,b,c,d,e))"
   ]
  },
  {
   "cell_type": "code",
   "execution_count": 35,
   "id": "940b50f1",
   "metadata": {},
   "outputs": [
    {
     "name": "stdout",
     "output_type": "stream",
     "text": [
      "no\n"
     ]
    }
   ],
   "source": [
    "st=input()\n",
    "rev=''.join(reversed(st))\n",
    "if(st==rev):\n",
    "    print(\"yes it is pallindrom\")\n",
    "else:\n",
    "    print(\"no\")"
   ]
  },
  {
   "cell_type": "code",
   "execution_count": 39,
   "id": "16390f24",
   "metadata": {},
   "outputs": [
    {
     "name": "stdout",
     "output_type": "stream",
     "text": [
      "120\n"
     ]
    }
   ],
   "source": [
    "n=int(input())\n",
    "fact=1\n",
    "while(n>1):\n",
    "    fact=fact*n\n",
    "    n=n-1\n",
    "print(fact)\n"
   ]
  },
  {
   "cell_type": "code",
   "execution_count": 42,
   "id": "eb569957",
   "metadata": {},
   "outputs": [
    {
     "name": "stdout",
     "output_type": "stream",
     "text": [
      "no\n"
     ]
    }
   ],
   "source": [
    "n=int(input())\n",
    "if(n%3==0 and n%5==0):\n",
    "    print(\"yes it is divisble by 3 and 5\")\n",
    "else:\n",
    "    print(\"no\")\n",
    "# if(sum(n)%3==0 and (n%10==0 or n%10==5)):\n",
    "#     print(\"yes\")\n",
    "# else:\n",
    "#     print(\"no\")"
   ]
  },
  {
   "cell_type": "code",
   "execution_count": 55,
   "id": "3d67af3e",
   "metadata": {},
   "outputs": [
    {
     "name": "stdout",
     "output_type": "stream",
     "text": [
      "prime\n"
     ]
    }
   ],
   "source": [
    "n=int(input())\n",
    "if(n<=1):\n",
    "    print(\"not prime\")\n",
    "elif(n==2):\n",
    "    print(\"prime\")\n",
    "else:\n",
    "    for i in range(2,int(n**0.5)+1):\n",
    "        if(n%i==0):\n",
    "            print(\"not a prime\")\n",
    "            break\n",
    "        else:\n",
    "            print(\"prime\")\n",
    "            break"
   ]
  },
  {
   "cell_type": "code",
   "execution_count": 62,
   "id": "ea662534",
   "metadata": {},
   "outputs": [
    {
     "name": "stdout",
     "output_type": "stream",
     "text": [
      "78\n"
     ]
    }
   ],
   "source": [
    "l=list(map(int,input().split()))\n",
    "l.sort()\n",
    "print(l[-2])"
   ]
  },
  {
   "cell_type": "code",
   "execution_count": 68,
   "id": "966c8b33",
   "metadata": {},
   "outputs": [
    {
     "name": "stdout",
     "output_type": "stream",
     "text": [
      "650\n"
     ]
    }
   ],
   "source": [
    "sum=0\n",
    "for i in range(2,51,2):\n",
    "    sum=sum+i\n",
    "print(sum)"
   ]
  },
  {
   "cell_type": "code",
   "execution_count": 73,
   "id": "fb800432",
   "metadata": {},
   "outputs": [
    {
     "name": "stdout",
     "output_type": "stream",
     "text": [
      "Lowercase letters: 2\n",
      "Uppercase letters: 2\n"
     ]
    }
   ],
   "source": [
    "s = input(\"Enter a string: \")\n",
    "c1 = 0  \n",
    "c2 = 0  \n",
    "for ch in s:\n",
    "    if ch.islower():\n",
    "        c1 += 1\n",
    "    elif ch.isupper():\n",
    "        c2 += 1\n",
    "print(\"Lowercase letters:\", c1)\n",
    "print(\"Uppercase letters:\", c2)\n"
   ]
  },
  {
   "cell_type": "code",
   "execution_count": 75,
   "id": "d86b2a40",
   "metadata": {},
   "outputs": [
    {
     "name": "stdout",
     "output_type": "stream",
     "text": [
      "0 1 1 2 "
     ]
    }
   ],
   "source": [
    "n = int(input())\n",
    "\n",
    "a, b = 0, 1\n",
    "for i in range(n):\n",
    "    print(a, end=\" \")\n",
    "    a, b = b, a + b\n"
   ]
  },
  {
   "cell_type": "code",
   "execution_count": 4,
   "id": "3ef72dd6",
   "metadata": {},
   "outputs": [
    {
     "name": "stdout",
     "output_type": "stream",
     "text": [
      "no\n"
     ]
    }
   ],
   "source": [
    "s1=input()\n",
    "s2=input()\n",
    "a=s1.replace(\" \",\"\").lower()\n",
    "b=s2.replace(\" \",\"\").lower()\n",
    "if(sorted(a)==sorted(b)):\n",
    "    print(\"yes\")\n",
    "else:\n",
    "    print(\"no\")"
   ]
  },
  {
   "cell_type": "code",
   "execution_count": 5,
   "id": "d60dc128",
   "metadata": {},
   "outputs": [
    {
     "name": "stdout",
     "output_type": "stream",
     "text": [
      "Perfect Number\n"
     ]
    }
   ],
   "source": [
    "n = int(input())\n",
    "total = 0\n",
    "for i in range(1, n):\n",
    "    if n % i == 0: \n",
    "        total += i\n",
    "if total == n:\n",
    "    print(\"Perfect Number\")\n",
    "else:\n",
    "    print(\"NOT a Perfect Number\")\n"
   ]
  },
  {
   "cell_type": "code",
   "execution_count": 7,
   "id": "6f45cedd",
   "metadata": {},
   "outputs": [
    {
     "name": "stdout",
     "output_type": "stream",
     "text": [
      "Grade: Fail\n"
     ]
    }
   ],
   "source": [
    "marks = list(map(int, input(\"5 subjects marks: \").split()))\n",
    "\n",
    "if len(marks) != 5:\n",
    "    print(\"enter exactly 5 marks\")\n",
    "else:\n",
    "    total = sum(marks)\n",
    "    p = total / 5\n",
    "    if p >= 90:\n",
    "        grade = \"A\"\n",
    "    elif p >= 75:\n",
    "        grade = \"B\"\n",
    "    elif p>= 50:\n",
    "        grade = \"C\"\n",
    "    else:\n",
    "        grade = \"Fail\"\n",
    "    print(\"Grade:\", grade)\n"
   ]
  },
  {
   "cell_type": "code",
   "execution_count": 1,
   "id": "b25ffea5",
   "metadata": {},
   "outputs": [
    {
     "name": "stdout",
     "output_type": "stream",
     "text": [
      "2 3 5 7 11 13 17 19 23 29 31 37 41 43 47 53 59 61 67 71 73 79 83 89 97 "
     ]
    }
   ],
   "source": [
    "for n in range(2, 100):   \n",
    "    is_prime = True\n",
    "    for i in range(2, int(n**0.5) + 1):\n",
    "        if n % i == 0:\n",
    "            is_prime = False\n",
    "            break\n",
    "    if is_prime:\n",
    "        print(n, end=\" \")\n"
   ]
  },
  {
   "cell_type": "code",
   "execution_count": 5,
   "id": "1f96688d",
   "metadata": {},
   "outputs": [
    {
     "name": "stdout",
     "output_type": "stream",
     "text": [
      "No.of words: 2\n"
     ]
    }
   ],
   "source": [
    "s = input(\"Enter a sentence: \")\n",
    "s = \" \".join(s.strip().split())\n",
    "\n",
    "if s == \"\":\n",
    "    print(\"No.of words: 0\")\n",
    "else:\n",
    "    print(\"No.of words:\", s.count(\" \") + 1)\n"
   ]
  },
  {
   "cell_type": "code",
   "execution_count": 6,
   "id": "e2e86a11",
   "metadata": {},
   "outputs": [
    {
     "name": "stdout",
     "output_type": "stream",
     "text": [
      "Ticket Price =  120.0\n"
     ]
    }
   ],
   "source": [
    "price = float(input(\"Enter ticket price: \"))\n",
    "age = int(input(\"Enter age: \"))\n",
    "student = input(\"Are you a student? (yes/no): \").lower()\n",
    "\n",
    "if student == \"yes\":\n",
    "    discount = 0.20 * price\n",
    "elif age >= 60:\n",
    "    discount = 0.10 * price\n",
    "else:\n",
    "    discount = 0\n",
    "\n",
    "fp = price - discount\n",
    "print(\"Ticket Price = \", fp)\n"
   ]
  },
  {
   "cell_type": "code",
   "execution_count": 7,
   "id": "877c8aa2",
   "metadata": {},
   "outputs": [
    {
     "name": "stdout",
     "output_type": "stream",
     "text": [
      "Final Amount= 500.0\n"
     ]
    }
   ],
   "source": [
    "cart_total = float(input(\"cart total: \"))\n",
    "\n",
    "if cart_total > 500:\n",
    "    final_amount = cart_total\n",
    "else:\n",
    "    final_amount = cart_total + 50\n",
    "\n",
    "print(\"Final Amount=\", final_amount)\n"
   ]
  },
  {
   "cell_type": "code",
   "execution_count": 8,
   "id": "d20f5c8d",
   "metadata": {},
   "outputs": [
    {
     "name": "stdout",
     "output_type": "stream",
     "text": [
      "Grade: A\n"
     ]
    }
   ],
   "source": [
    "m = int(input(\"Enter marks: \"))\n",
    "\n",
    "if 90 <= m <= 100:\n",
    "    grade = \"A\"\n",
    "elif 75 <= m< 90:\n",
    "    grade = \"B\"\n",
    "elif 50 <= m < 75:\n",
    "    grade = \"C\"\n",
    "else:\n",
    "    grade = \"Fail\"\n",
    "\n",
    "print(\"Grade:\", grade)\n"
   ]
  },
  {
   "cell_type": "code",
   "execution_count": 9,
   "id": "fe8e10e0",
   "metadata": {},
   "outputs": [
    {
     "name": "stdout",
     "output_type": "stream",
     "text": [
      "Tip to be added =  22.5\n"
     ]
    }
   ],
   "source": [
    "bill = float(input(\"bill amount: \"))\n",
    "\n",
    "if bill < 500:\n",
    "    tip = 0.05 * bill\n",
    "elif 500 <= bill <= 1000:\n",
    "    tip = 0.10 * bill\n",
    "else:\n",
    "    tip = 0.15 * bill\n",
    "\n",
    "print(\"Tip to be added = \", tip)\n"
   ]
  },
  {
   "cell_type": "code",
   "execution_count": 10,
   "id": "038c0909",
   "metadata": {},
   "outputs": [
    {
     "name": "stdout",
     "output_type": "stream",
     "text": [
      "Cheapest =  51500\n"
     ]
    }
   ],
   "source": [
    "months = int(input(\"membership period in months: \"))\n",
    "\n",
    "c1 = months * 500\n",
    "c6 = (months // 6) * 2700 + (months % 6) * 500\n",
    "c12 = (months // 12) * 5000 + (months % 12) * 500\n",
    "\n",
    "cheapest = min(c1, c6, c12)\n",
    "\n",
    "print(\"Cheapest = \", cheapest)\n"
   ]
  },
  {
   "cell_type": "code",
   "execution_count": 11,
   "id": "c0b0f5cb",
   "metadata": {},
   "outputs": [
    {
     "name": "stdout",
     "output_type": "stream",
     "text": [
      "Eligible for Exam\n"
     ]
    }
   ],
   "source": [
    "total = int(input(\"total classes: \"))\n",
    "attended = int(input(\"classes attended: \"))\n",
    "\n",
    "attendance = (attended / total) * 100\n",
    "\n",
    "if attendance >= 75:\n",
    "    print(\"Eligible for Exam\")\n",
    "else:\n",
    "    print(\"Not Eligible for Exam\")\n"
   ]
  },
  {
   "cell_type": "code",
   "execution_count": 12,
   "id": "f997b0ca",
   "metadata": {},
   "outputs": [
    {
     "name": "stdout",
     "output_type": "stream",
     "text": [
      "Transaction Successful\n"
     ]
    }
   ],
   "source": [
    "amount = int(input(\"withdrawal amount: \"))\n",
    "\n",
    "if amount % 100 == 0:\n",
    "    print(\"Transaction Successful\")\n",
    "else:\n",
    "    print(\"Transaction Failed\")\n"
   ]
  },
  {
   "cell_type": "code",
   "execution_count": 13,
   "id": "38d0e3fa",
   "metadata": {},
   "outputs": [
    {
     "name": "stdout",
     "output_type": "stream",
     "text": [
      "Nice weather, go out!\n"
     ]
    }
   ],
   "source": [
    "temp = int(input(\"temp: \"))\n",
    "\n",
    "if temp > 35:\n",
    "    print(\"Too hot, stay indoors!\")\n",
    "elif 20 <= temp <= 35:\n",
    "    print(\"Nice weather, go out!\")\n",
    "else:\n",
    "    print(\"It’s cold, wear warm clothes!\")\n"
   ]
  },
  {
   "cell_type": "code",
   "execution_count": 15,
   "id": "d4f72d69",
   "metadata": {},
   "outputs": [
    {
     "name": "stdout",
     "output_type": "stream",
     "text": [
      "Fine=  10\n"
     ]
    }
   ],
   "source": [
    "d = int(input(\"no.of late days: \"))\n",
    "\n",
    "if 1 <= d <= 5:\n",
    "    fine = 10\n",
    "elif 6 <= d <= 10:\n",
    "    fine = 50\n",
    "elif d > 10:\n",
    "    fine = 100\n",
    "else:\n",
    "    fine = 0  # no fine if returned on time\n",
    "\n",
    "print(\"Fine= \", fine)\n"
   ]
  },
  {
   "cell_type": "code",
   "execution_count": 16,
   "id": "b9fef37a",
   "metadata": {},
   "outputs": [
    {
     "name": "stdout",
     "output_type": "stream",
     "text": [
      "Electricity Bill = 60\n"
     ]
    }
   ],
   "source": [
    "units = int(input(\"units consumed: \"))\n",
    "\n",
    "if units <= 100:\n",
    "    bill = units * 5\n",
    "elif units <= 200:\n",
    "    bill = (100 * 5) + (units - 100) * 7\n",
    "else:\n",
    "    bill = (100 * 5) + (100 * 7) + (units - 200) * 10\n",
    "\n",
    "print(\"Electricity Bill =\", bill)\n"
   ]
  },
  {
   "cell_type": "code",
   "execution_count": null,
   "id": "968f5333",
   "metadata": {},
   "outputs": [],
   "source": []
  }
 ],
 "metadata": {
  "kernelspec": {
   "display_name": "Python 3",
   "language": "python",
   "name": "python3"
  },
  "language_info": {
   "codemirror_mode": {
    "name": "ipython",
    "version": 3
   },
   "file_extension": ".py",
   "mimetype": "text/x-python",
   "name": "python",
   "nbconvert_exporter": "python",
   "pygments_lexer": "ipython3",
   "version": "3.10.11"
  }
 },
 "nbformat": 4,
 "nbformat_minor": 5
}
