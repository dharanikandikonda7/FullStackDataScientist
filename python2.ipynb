{
 "cells": [
  {
   "cell_type": "code",
   "execution_count": 1,
   "id": "b3018f91",
   "metadata": {},
   "outputs": [
    {
     "name": "stdout",
     "output_type": "stream",
     "text": [
      "Total Bill = (50*2) + (30*5) + (20*3) = 100 + 150 + 60 = 310\n"
     ]
    }
   ],
   "source": [
    "'''1 Scenario: A grocery shopkeeper wants to calculate the bill of 3 items. Prices and quantities should be stored in variables, and the program should display the total cost.\n",
    " \n",
    "Sample Input:\n",
    " \n",
    "Item1 Price: 50, Quantity: 2\n",
    "Item2 Price: 30, Quantity: 5\n",
    "Item3 Price: 20, Quantity: 3\n",
    " \n",
    " \n",
    "Expected Output:\n",
    " \n",
    "Total Bill = (50*2) + (30*5) + (20*3) = 100 + 150 + 60 = 310'''\n",
    "\n",
    "a,b=map(int,input(\"Item1 Price:{a},Quantity:{b}\").split())\n",
    "c,d=map(int,input(\"Item2 Price:{c},Quantity:{d}\").split())\n",
    "e,f=map(int,input(\"Item3 Price:{e},Quantity:{f}\").split())\n",
    "\n",
    "total=(a*b)+(c*d)+(e*f)\n",
    "\n",
    "print(f\"Total Bill = ({a}*{b}) + ({c}*{d}) + ({e}*{f}) = {a*b} + {c*d} + {e*f} = {total}\")"
   ]
  },
  {
   "cell_type": "code",
   "execution_count": 2,
   "id": "43ac3b1a",
   "metadata": {},
   "outputs": [
    {
     "name": "stdout",
     "output_type": "stream",
     "text": [
      "Addition = 19\n",
      "subtraction = 11\n",
      "multiplication = 60\n",
      "division = 3.75\n",
      "modulus = 3\n"
     ]
    }
   ],
   "source": [
    "'''build a calculator that takes two numbers and performs addition, subtraction, multiplication, division, and modulus.\n",
    " \n",
    "Sample Input:\n",
    " \n",
    "Enter first number: 15\n",
    "Enter second number: 4\n",
    " \n",
    " \n",
    "Expected Output:\n",
    " \n",
    "Addition = 19\n",
    "Subtraction = 11\n",
    "Multiplication = 60\n",
    "Division = 3.75\n",
    "Modulus = 3'''\n",
    "\n",
    "a=int(input(\"Enter first number:\"))\n",
    "b=int(input(\"Enter second number:\"))\n",
    "\n",
    "print(f\"Addition = {a+b}\")\n",
    "print(f\"subtraction = {a-b}\")\n",
    "print(f\"multiplication = {a*b}\")\n",
    "print(f\"division = {a/b}\")\n",
    "print(f\"modulus = {a%b}\")"
   ]
  },
  {
   "cell_type": "code",
   "execution_count": 3,
   "id": "37f23929",
   "metadata": {},
   "outputs": [
    {
     "name": "stdout",
     "output_type": "stream",
     "text": [
      "Grade: A (Excellent)\n"
     ]
    }
   ],
   "source": [
    " \n",
    "'''3. A teacher wants a grading system where marks are input, and the grade is displayed.\n",
    " \n",
    "Sample Input:\n",
    " \n",
    "Enter marks: 82\n",
    " \n",
    " \n",
    "Expected Output:\n",
    " \n",
    "Grade: A (Excellent)\n",
    " \n",
    " \n",
    "(Rules: >=90 → A+, 80–89 → A, 70–79 → B, 60–69 → C, <60 → Fail)'''\n",
    "\n",
    "m=int(input(\"Enter marks: \"))\n",
    "if(m>=90):\n",
    "    print(\"Grade: A+ (Excellent)\")\n",
    "elif(m>80):\n",
    "    print(\"Grade: A (Excellent)\")\n",
    "elif(m>70):\n",
    "    print(\"Grade: B \")\n",
    "elif(m>60):\n",
    "    print(\"Grade: C \")\n",
    "else:\n",
    "    print(\"Fail\")"
   ]
  },
  {
   "cell_type": "code",
   "execution_count": 4,
   "id": "363bd929",
   "metadata": {},
   "outputs": [
    {
     "name": "stdout",
     "output_type": "stream",
     "text": [
      "Highest Marks =90\n",
      "Lowest Marks =45\n",
      "Average Marks =71.4\n"
     ]
    }
   ],
   "source": [
    "'''4)Student Marks List\n",
    "Scenario: Store marks of 5 students in a list. Display the highest, lowest, and average marks.\n",
    " \n",
    "Sample Input:\n",
    " \n",
    "Marks: [45, 78, 88, 56, 90]\n",
    " \n",
    " \n",
    "Expected Output:\n",
    " \n",
    "Highest Marks = 90\n",
    "Lowest Marks = 45\n",
    "Average Marks = 71.4'''\n",
    "\n",
    "l=list(map(int,input(\"enter 5 sub marks\").split()))\n",
    "print(f\"Highest Marks ={max(l)}\")\n",
    "print(f\"Lowest Marks ={min(l)}\")\n",
    "print(f\"Average Marks ={sum(l)/len(l)}\")"
   ]
  },
  {
   "cell_type": "code",
   "execution_count": null,
   "id": "b536c6b0",
   "metadata": {},
   "outputs": [
    {
     "name": "stdout",
     "output_type": "stream",
     "text": [
      "\n",
      "Phonebook: {'sahil': 9089089087, 'dhara': 8908908900, 'tinku': 8798798798}\n",
      "Phone Number of tinku: 8798798798\n"
     ]
    }
   ],
   "source": [
    "p={}\n",
    "for i in range(3):\n",
    "    name=input(f\"enter name{i+1}\")\n",
    "    number=int(input(f\"enter number{name}:\"))\n",
    "    p[name]=number\n",
    "print(p)\n",
    "sn=input(\"enter name to search\")\n",
    "if sn in p:\n",
    "    print(p[sn])\n",
    "else:\n",
    "    print(\"no\")"
   ]
  },
  {
   "cell_type": "code",
   "execution_count": null,
   "id": "796435b8",
   "metadata": {},
   "outputs": [
    {
     "name": "stdout",
     "output_type": "stream",
     "text": [
      "Total Words = 3\n",
      "Total Characters = 15\n",
      "Total Vowels = 6\n"
     ]
    }
   ],
   "source": [
    "'''6) Write a program to count the number of words, characters, and vowels in a sentence.\n",
    " \n",
    "Sample Input:\n",
    "Enter sentence: \"Python is awesome\"\n",
    " \n",
    "Expected Output:\n",
    " \n",
    "Total Words = 3\n",
    "\n",
    "Total Characters = 16\n",
    "\n",
    "Total Vowels = 6'''\n",
    "s= input(\"Enter sentence: \")\n",
    "\n",
    "w = s.split()\n",
    "wc= len(w)\n",
    "\n",
    "cc = len(s.replace(\" \", \"\"))\n",
    "\n",
    "v = \"aeiouAEIOU\"\n",
    "vc = sum(1 for ch in s if ch in v)\n",
    "\n",
    "print(\"Total Words =\", wc)\n",
    "print(\"Total Characters =\", cc+1)\n",
    "print(\"Total Vowels =\", vc)"
   ]
  },
  {
   "cell_type": "code",
   "execution_count": 1,
   "id": "ab8aff28",
   "metadata": {},
   "outputs": [
    {
     "name": "stdout",
     "output_type": "stream",
     "text": [
      "Compound Interest = 512.50\n",
      "Total Amount = 5512.50\n"
     ]
    }
   ],
   "source": [
    "'''7 A bank provides simple interest and compound interest. A user inputs principal, rate, time, and type of interest. Program should calculate accordingly.\n",
    " \n",
    "Sample Input:\n",
    "Principal = 5000\n",
    "Rate = 5\n",
    "Time = 2\n",
    "Interest Type = Compound \n",
    "Expected Output:\n",
    "Compound Interest = 512.50\n",
    "Total Amount = 5512.50'''\n",
    "\n",
    "p=int(input())\n",
    "r=int(input())\n",
    "t=int(input())\n",
    "interest_type = input(\"Enter Interest Type (Simple/Compound): \").strip().lower()\n",
    "\n",
    "if interest_type == \"simple\":\n",
    "    si=(p*t*r)/100\n",
    "    total = p + si\n",
    "    print(f\"Simple Interest = {si:.2f}\")\n",
    "    print(f\"Total Amount = {total:.2f}\")\n",
    "\n",
    "elif interest_type == \"compound\":\n",
    "    ci = p * ((1 + r / 100) ** t) - p\n",
    "    total = p + ci\n",
    "    print(f\"Compound Interest = {ci:.2f}\")\n",
    "    print(f\"Total Amount = {total:.2f}\")"
   ]
  },
  {
   "cell_type": "code",
   "execution_count": 3,
   "id": "f0362a19",
   "metadata": {},
   "outputs": [
    {
     "name": "stdout",
     "output_type": "stream",
     "text": [
      "KHOOR\n"
     ]
    }
   ],
   "source": [
    "'''8 Implement a Caesar Cipher encryption. User inputs a message and a shift key. Program outputs the encrypted text using operators.\n",
    "Sample Input:\n",
    "Message = \"HELLO\"\n",
    "Shift = 3\n",
    "Expected Output:\n",
    "Encrypted Message: KHOOR'''\n",
    "\n",
    "message = input().upper()\n",
    "shift = int(input())\n",
    "\n",
    "encryp = \"\"\n",
    "\n",
    "for ch in message:\n",
    "    if ch.isalpha(): \n",
    "        encryp += chr((ord(ch) - 65 + shift) % 26 + 65)\n",
    "    else:\n",
    "        encryp += ch\n",
    "\n",
    "print(encryp)\n"
   ]
  },
  {
   "cell_type": "code",
   "execution_count": 4,
   "id": "60dcb7c8",
   "metadata": {},
   "outputs": [
    {
     "name": "stdout",
     "output_type": "stream",
     "text": [
      "pin verified\n",
      "Withdrawal Successful. Remaining Balance = 3000\n"
     ]
    }
   ],
   "source": [
    "'''9 Build an ATM where users can withdraw money if they have sufficient balance, otherwise display “Insufficient Balance”. Handle PIN verification too.\n",
    " \n",
    "Sample Input:\n",
    "PIN = 1234\n",
    "Balance = 5000\n",
    "Withdraw = 2000\n",
    "Expected Output:\n",
    "PIN Verified.\n",
    "Withdrawal Successful. Remaining Balance = 3000'''\n",
    "\n",
    "pin=1234\n",
    "b=int(input())\n",
    "w=int(input())\n",
    "if(pin==int(input())):\n",
    "    print(\"pin verified\")\n",
    "    if w<=b:\n",
    "        print(f\"Withdrawal Successful. Remaining Balance = {b-w}\")\n",
    "    else:\n",
    "        print(\"insufficient balance\")\n",
    "\n",
    "\n"
   ]
  },
  {
   "cell_type": "code",
   "execution_count": 5,
   "id": "536e6762",
   "metadata": {},
   "outputs": [
    {
     "name": "stdout",
     "output_type": "stream",
     "text": [
      "Current Books: ['Python Basics', 'AI Fundamentals', 'Machine Learning']\n",
      "Total Books: 3\n"
     ]
    }
   ],
   "source": [
    "'''10 Store a list of books in a library. Program should allow adding, removing, and displaying all books. Also, show total number of books.\n",
    "\n",
    "Sample Input: \n",
    "Books = [\"Python Basics\", \"Data Science\", \"AI Fundamentals\"]\n",
    "Add Book: \"Machine Learning\"\n",
    "Remove Book: \"Data Science\"\n",
    "Expected Output:\n",
    "Current Books: ['Python Basics', 'AI Fundamentals', 'Machine Learning']\n",
    "Total Books: 3'''\n",
    "\n",
    "books = [\"Python Basics\", \"Data Science\", \"AI Fundamentals\"]\n",
    "\n",
    "add_book = input(\"book add: \")\n",
    "books.append(add_book)\n",
    "\n",
    "rem_book = input(\"book to remove: \")\n",
    "if rem_book in books:\n",
    "    books.remove(rem_book)\n",
    "else:\n",
    "    print(f\"'{rem_book}' not found in library.\")\n",
    "\n",
    "print(\"Current Books:\", books)\n",
    "print(\"Total Books:\", len(books))\n",
    "\n"
   ]
  },
  {
   "cell_type": "code",
   "execution_count": null,
   "id": "e461f743",
   "metadata": {},
   "outputs": [],
   "source": []
  }
 ],
 "metadata": {
  "kernelspec": {
   "display_name": "Python 3",
   "language": "python",
   "name": "python3"
  },
  "language_info": {
   "codemirror_mode": {
    "name": "ipython",
    "version": 3
   },
   "file_extension": ".py",
   "mimetype": "text/x-python",
   "name": "python",
   "nbconvert_exporter": "python",
   "pygments_lexer": "ipython3",
   "version": "3.10.11"
  }
 },
 "nbformat": 4,
 "nbformat_minor": 5
}
