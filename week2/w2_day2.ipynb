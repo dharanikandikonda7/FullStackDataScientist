{
 "cells": [
  {
   "cell_type": "code",
   "execution_count": 2,
   "id": "c8a19bac",
   "metadata": {},
   "outputs": [
    {
     "name": "stdout",
     "output_type": "stream",
     "text": [
      "3\n"
     ]
    }
   ],
   "source": [
    "# 1. Problem: Given a text file, count the total number of words.\n",
    "\n",
    "file=open(\"demo.txt\",\"r\")\n",
    "text=file.read()\n",
    "words=text.split()\n",
    "print(len(words))\n"
   ]
  },
  {
   "cell_type": "code",
   "execution_count": 11,
   "id": "6e13e1b1",
   "metadata": {},
   "outputs": [
    {
     "name": "stdout",
     "output_type": "stream",
     "text": [
      "Strong\n"
     ]
    }
   ],
   "source": [
    "class Password:\n",
    "    def __init__(self, password):\n",
    "        self.password = password\n",
    "\n",
    "    def strongpass(self):\n",
    "        spec = \"@!&$#?\"\n",
    "        upper = lower = digit = special = False\n",
    "\n",
    "        if len(self.password) < 8:\n",
    "            return \"Weak\"\n",
    "\n",
    "        for ch in self.password:\n",
    "            if 97 <= ord(ch) <= 122:   # a-z\n",
    "                lower = True\n",
    "            elif 65 <= ord(ch) <= 90:  # A-Z\n",
    "                upper = True\n",
    "            elif 48 <= ord(ch) <= 57:  # 0-9\n",
    "                digit = True\n",
    "            elif ch in spec:\n",
    "                special = True\n",
    "\n",
    "        if lower and upper and digit and special:\n",
    "            return \"Strong\"\n",
    "        else:\n",
    "            return \"Weak\"\n",
    "\n",
    "\n",
    "p = Password(input(\"Enter password: \"))\n",
    "print(p.strongpass())\n"
   ]
  },
  {
   "cell_type": "code",
   "execution_count": 14,
   "id": "9bf98f26",
   "metadata": {},
   "outputs": [
    {
     "name": "stdout",
     "output_type": "stream",
     "text": [
      "7\n"
     ]
    }
   ],
   "source": [
    "# 3. Problem: Implement a calculator with +, -, *, / operations.\n",
    "\n",
    "class calculator:\n",
    "    def __init__(self,ch,n1,n2):\n",
    "        self.ch=ch\n",
    "        self.n1=n1\n",
    "        self.n2=n2\n",
    "    def cal(self):\n",
    "        if(self.ch=='+'):\n",
    "            return self.n1+self.n2\n",
    "        if(self.ch=='-'):\n",
    "            return self.n1-self.n2\n",
    "        if(self.ch=='*'):\n",
    "            return self.n1*self.n2\n",
    "        if(self.ch=='/'):\n",
    "            try:\n",
    "                n3=n1/n2\n",
    "                return n3\n",
    "            except ZeroDivisionError:\n",
    "                return \"Error: Division by zero\"\n",
    "        else:\n",
    "            print(\"Invalid character\")\n",
    "\n",
    "c=calculator(input(\"char\"),int(input()),int(input()))\n",
    "print(c.cal())        \n"
   ]
  },
  {
   "cell_type": "code",
   "execution_count": 20,
   "id": "1de2bc1a",
   "metadata": {},
   "outputs": [
    {
     "name": "stdout",
     "output_type": "stream",
     "text": [
      "{'hi'}\n"
     ]
    }
   ],
   "source": [
    "# 4. Problem: Given a list of student names, find duplicates.\n",
    "class dupl:\n",
    "    def __init__(self, names):\n",
    "        self.names = names\n",
    "\n",
    "    def finddup(self):\n",
    "        s = set()\n",
    "        for i in self.names:\n",
    "            if self.names.count(i) > 1:\n",
    "                s.add(i)\n",
    "        return s\n",
    "\n",
    "\n",
    "d = dupl(list(map(str, input(\"Enter student names: \").split())))\n",
    "print(d.finddup())\n",
    "\n",
    "\n",
    "\n",
    "\n"
   ]
  },
  {
   "cell_type": "code",
   "execution_count": 25,
   "id": "12ab7f9e",
   "metadata": {},
   "outputs": [
    {
     "name": "stdout",
     "output_type": "stream",
     "text": [
      "Fahrenheit: 209.48\n"
     ]
    }
   ],
   "source": [
    "# 5. Problem: Convert between Celsius and Fahrenheit.\n",
    "\n",
    "class cf:\n",
    "    def __init__(self, deg, typ):\n",
    "        self.deg = deg\n",
    "        self.typ = typ\n",
    "\n",
    "    def ctof(self):\n",
    "        return (self.deg * 9/5) + 32\n",
    "\n",
    "    def ftoc(self):\n",
    "        return (self.deg - 32) * 5/9\n",
    "\n",
    "\n",
    "deg = float(input(\"temperature: \"))\n",
    "typ = input(\"type (C/F): \")\n",
    "\n",
    "conv = cf(deg, typ)\n",
    "\n",
    "if typ in 'cC':\n",
    "    print(\"Fahrenheit:\", round(conv.ctof(), 2))\n",
    "elif typ in 'fF':\n",
    "    print(\"Celsius:\", round(conv.ftoc(), 2))\n",
    "else:\n",
    "    print(\"Invalid type\")\n"
   ]
  },
  {
   "cell_type": "code",
   "execution_count": 26,
   "id": "0297a22f",
   "metadata": {},
   "outputs": [
    {
     "name": "stdout",
     "output_type": "stream",
     "text": [
      "50\n"
     ]
    }
   ],
   "source": [
    "# 6. Problem: Find the largest number from a list of integers.\n",
    "l=list(map(int,input().split()))\n",
    "print(max(l))\n"
   ]
  },
  {
   "cell_type": "code",
   "execution_count": 31,
   "id": "16afe456",
   "metadata": {},
   "outputs": [
    {
     "name": "stdout",
     "output_type": "stream",
     "text": [
      "270.0\n"
     ]
    }
   ],
   "source": [
    "# 7. Problem: Calculate Simple Interest.\n",
    "\n",
    "class si:\n",
    "    def __init__(self,p,t,r):\n",
    "        self.p=p\n",
    "        self.t=t\n",
    "        self.r=r\n",
    "    def si1(self):\n",
    "        return (self.p*self.t*self.r)/100\n",
    "p,t,r=map(int,input().split())\n",
    "s=si(p,t,r)\n",
    "print(s.si1())\n",
    "\n"
   ]
  },
  {
   "cell_type": "code",
   "execution_count": 33,
   "id": "6632a62d",
   "metadata": {},
   "outputs": [
    {
     "name": "stdout",
     "output_type": "stream",
     "text": [
      "\n",
      "Defaulters (attendance < 75%):\n",
      "pooja - 70.0 %\n",
      "neha - 20.0 %\n"
     ]
    }
   ],
   "source": [
    "# 8. Problem: Given a dictionary of student names and attendance %, find defaulters (<75%).\n",
    "\n",
    "n = int(input(\"Enter number of students: \"))\n",
    "students = {}\n",
    "\n",
    "for i in range(n):\n",
    "    name = input(\"Enter student name: \")\n",
    "    att = float(input(\"Enter attendance %: \"))\n",
    "    students[name] = att\n",
    "\n",
    "print(\"\\nDefaulters (attendance < 75%):\")\n",
    "for name, att in students.items():\n",
    "    if att < 75:\n",
    "        print(name, \"-\", att, \"%\")\n"
   ]
  },
  {
   "cell_type": "code",
   "execution_count": 39,
   "id": "fc31bf3e",
   "metadata": {},
   "outputs": [
    {
     "name": "stdout",
     "output_type": "stream",
     "text": [
      "10\n"
     ]
    }
   ],
   "source": [
    "# 9. Problem: Input: 1234 → Output: 10\n",
    "\n",
    "num=int(input())\n",
    "sum=0\n",
    "while num>0:\n",
    "    a=num%10\n",
    "    sum+=a\n",
    "    num=num//10\n",
    "print(sum)\n"
   ]
  },
  {
   "cell_type": "code",
   "execution_count": 51,
   "id": "7d0b42a0",
   "metadata": {},
   "outputs": [
    {
     "name": "stdout",
     "output_type": "stream",
     "text": [
      "prime\n"
     ]
    }
   ],
   "source": [
    "# 10. Problem: Write a function to check if a number is prime.\n",
    "def prime(num):\n",
    "    if num==1:\n",
    "        print(\"not a prime\")\n",
    "    elif num==2:\n",
    "        print(\"prime\")\n",
    "    else:\n",
    "        for i in range(2,int(num**0.5)+1):\n",
    "            if(num%i==0):\n",
    "                print(\"not a prime\")\n",
    "                return\n",
    "    print(\"prime\")\n",
    "\n",
    "num=int(input())\n",
    "prime(num)\n"
   ]
  },
  {
   "cell_type": "code",
   "execution_count": 54,
   "id": "3b04984d",
   "metadata": {},
   "outputs": [
    {
     "name": "stdout",
     "output_type": "stream",
     "text": [
      "1 15\n"
     ]
    }
   ],
   "source": [
    "# 11. Problem: Find smallest and largest numbers from a list.\n",
    "l=list(map(int,input().split()))\n",
    "print(min(l),max(l))\n"
   ]
  },
  {
   "cell_type": "code",
   "execution_count": 6,
   "id": "17f1a27b",
   "metadata": {},
   "outputs": [
    {
     "name": "stdout",
     "output_type": "stream",
     "text": [
      "{'apple': 30, 'banana': 20, 'milk': 50}\n"
     ]
    },
    {
     "data": {
      "text/plain": [
       "100"
      ]
     },
     "execution_count": 6,
     "metadata": {},
     "output_type": "execute_result"
    }
   ],
   "source": [
    "# 12. Problem: Given items with prices in a dictionary, calculate total bill.\n",
    "\n",
    "def bill(d):\n",
    "    print(d)\n",
    "    return sum(d.values())\n",
    "d=eval(input())\n",
    "bill(d)\n",
    "\n",
    "\n",
    "\n"
   ]
  },
  {
   "cell_type": "code",
   "execution_count": 7,
   "id": "473570c4",
   "metadata": {},
   "outputs": [
    {
     "data": {
      "text/plain": [
       "(40, 'is largest')"
      ]
     },
     "execution_count": 7,
     "metadata": {},
     "output_type": "execute_result"
    }
   ],
   "source": [
    "#Largest in 3 numbers\n",
    "def max(n1,n2,n3):\n",
    "    if n1>n2 and n1>n3:\n",
    "        return n1,\"is largest\"\n",
    "    elif n2>n3:\n",
    "        return n2,\"is largest\"\n",
    "    else:\n",
    "        return n3,\"is largest\"\n",
    "n1,n2,n3=map(int,input().split())\n",
    "max(n1,n2,n3)"
   ]
  },
  {
   "cell_type": "code",
   "execution_count": 8,
   "id": "35b021f1",
   "metadata": {},
   "outputs": [
    {
     "data": {
      "text/plain": [
       "Counter({'l': 2, 'h': 1, 'e': 1, 'o': 1})"
      ]
     },
     "execution_count": 8,
     "metadata": {},
     "output_type": "execute_result"
    }
   ],
   "source": [
    "#Frequency of Char\n",
    "from collections import Counter\n",
    "def freq(s):\n",
    "    f=Counter(s)\n",
    "    return f\n",
    "s=input()\n",
    "freq(s)"
   ]
  },
  {
   "cell_type": "code",
   "execution_count": 9,
   "id": "14678eaf",
   "metadata": {},
   "outputs": [
    {
     "data": {
      "text/plain": [
       "2080"
      ]
     },
     "execution_count": 9,
     "metadata": {},
     "output_type": "execute_result"
    }
   ],
   "source": [
    "#Electricity Bill\n",
    "def elecbill(n):\n",
    "    bill=0\n",
    "    if n<=100:\n",
    "        bill=n*5\n",
    "    elif n>100 and n<=200:\n",
    "        bill=n*7\n",
    "    else:\n",
    "        bill=n*10\n",
    "    return bill\n",
    "n=int(input())\n",
    "elecbill(n)"
   ]
  },
  {
   "cell_type": "code",
   "execution_count": 10,
   "id": "0306e491",
   "metadata": {},
   "outputs": [
    {
     "data": {
      "text/plain": [
       "['hi', 'ok', 'ye']"
      ]
     },
     "execution_count": 10,
     "metadata": {},
     "output_type": "execute_result"
    }
   ],
   "source": [
    "#Sorting\n",
    "def sort(l):\n",
    "    return sorted(l)\n",
    "l=input().split()\n",
    "sort(l)"
   ]
  },
  {
   "cell_type": "code",
   "execution_count": 12,
   "id": "28363cc0",
   "metadata": {},
   "outputs": [
    {
     "name": "stdout",
     "output_type": "stream",
     "text": [
      "<class 'int'>\n"
     ]
    },
    {
     "data": {
      "text/plain": [
       "2321"
      ]
     },
     "execution_count": 12,
     "metadata": {},
     "output_type": "execute_result"
    }
   ],
   "source": [
    "#Reverse of Number\n",
    "def reverse(n):\n",
    "    s=str(n)\n",
    "    o=int(s[::-1])\n",
    "    print(type(o))\n",
    "    return o\n",
    "n= int(input())\n",
    "reverse(n)"
   ]
  },
  {
   "cell_type": "code",
   "execution_count": 13,
   "id": "e49c884e",
   "metadata": {},
   "outputs": [
    {
     "data": {
      "text/plain": [
       "('Positive', 4, 'Negative', 2, 'Zero', 2)"
      ]
     },
     "execution_count": 13,
     "metadata": {},
     "output_type": "execute_result"
    }
   ],
   "source": [
    "#Count of +,-,0\n",
    "def cou(l):\n",
    "    p,n,z=0,0,0\n",
    "    for i in l:\n",
    "        if i>0:\n",
    "            p=p+1\n",
    "        elif i<0:\n",
    "            n=n+1\n",
    "        else:\n",
    "            z=z+1\n",
    "    return \"Positive\",p,\"Negative\",n,\"Zero\",z\n",
    "l=list(map(int,input().split()))\n",
    "cou(l)"
   ]
  },
  {
   "cell_type": "code",
   "execution_count": 14,
   "id": "b20d8d3c",
   "metadata": {},
   "outputs": [
    {
     "data": {
      "text/plain": [
       "'Attempts are Done'"
      ]
     },
     "execution_count": 14,
     "metadata": {},
     "output_type": "execute_result"
    }
   ],
   "source": [
    "#Correct Pin\n",
    "def cpin(p1):\n",
    "    for _ in range(3):\n",
    "        p2=int(input())\n",
    "        if p1==p2:\n",
    "            return \"True\"\n",
    "    else:\n",
    "        return \"Attempts are Done\"\n",
    "p1=int(input())\n",
    "cpin(p1)"
   ]
  },
  {
   "cell_type": "code",
   "execution_count": 16,
   "id": "71c592e9",
   "metadata": {},
   "outputs": [
    {
     "data": {
      "text/plain": [
       "\"can't Divide\""
      ]
     },
     "execution_count": 16,
     "metadata": {},
     "output_type": "execute_result"
    }
   ],
   "source": [
    "#Try-Except\n",
    "def divide(a,b):\n",
    "    try:\n",
    "        re=a/b\n",
    "        return re\n",
    "    except:\n",
    "        return \"can't Divide\"\n",
    "a=int(input())\n",
    "b=int(input())\n",
    "divide(a,b)"
   ]
  },
  {
   "cell_type": "code",
   "execution_count": 19,
   "id": "60d94a09",
   "metadata": {},
   "outputs": [
    {
     "name": "stdout",
     "output_type": "stream",
     "text": [
      "Invalid Input\n"
     ]
    }
   ],
   "source": [
    "#Try-Except(2)\n",
    "def divide(a,b):\n",
    "    try:\n",
    "        re=int(a)/int(b)\n",
    "        return re\n",
    "    except ZeroDivisionError:\n",
    "        return \"can't Divide\"\n",
    "    except ValueError:\n",
    "        print(\"Invalid Input\")\n",
    "a=input()\n",
    "b=input()\n",
    "divide(a,b)"
   ]
  },
  {
   "cell_type": "code",
   "execution_count": null,
   "id": "2be2d51f",
   "metadata": {},
   "outputs": [
    {
     "data": {
      "text/plain": [
       "300"
      ]
     },
     "execution_count": 20,
     "metadata": {},
     "output_type": "execute_result"
    }
   ],
   "source": [
    "#Withdrawl Amount\n",
    "def withdrawl(bal,a):\n",
    "    try:\n",
    "        return bal-a\n",
    "    except:\n",
    "        return \"Insufficient balance\"\n",
    "bal=int(input())\n",
    "a=int(input())\n",
    "withdrawl(bal,a)"
   ]
  },
  {
   "cell_type": "code",
   "execution_count": 21,
   "id": "36547f8b",
   "metadata": {},
   "outputs": [
    {
     "name": "stdout",
     "output_type": "stream",
     "text": [
      "Bill processing finished\n"
     ]
    },
    {
     "data": {
      "text/plain": [
       "500"
      ]
     },
     "execution_count": 21,
     "metadata": {},
     "output_type": "execute_result"
    }
   ],
   "source": [
    "#Electricity Bill(Using try-except-finally)\n",
    "def Ebil(u):\n",
    "    try:\n",
    "        bill=0\n",
    "        if int(u)<=100:\n",
    "            bill=int(u)*5\n",
    "        elif int(u)>100 and int(u)<=200:\n",
    "            bill=int(u)*7\n",
    "        else:\n",
    "            bill=int(u)*10\n",
    "        return bill\n",
    "    except ValueError:\n",
    "        print(\"Invalid Input\")\n",
    "    finally:\n",
    "        print(\"Bill processing finished\")\n",
    "a=input()\n",
    "Ebil(a)"
   ]
  },
  {
   "cell_type": "code",
   "execution_count": null,
   "id": "7db7d189",
   "metadata": {},
   "outputs": [],
   "source": []
  }
 ],
 "metadata": {
  "kernelspec": {
   "display_name": "Python 3",
   "language": "python",
   "name": "python3"
  },
  "language_info": {
   "codemirror_mode": {
    "name": "ipython",
    "version": 3
   },
   "file_extension": ".py",
   "mimetype": "text/x-python",
   "name": "python",
   "nbconvert_exporter": "python",
   "pygments_lexer": "ipython3",
   "version": "3.10.11"
  }
 },
 "nbformat": 4,
 "nbformat_minor": 5
}
