{
 "cells": [
  {
   "cell_type": "code",
   "execution_count": 11,
   "id": "b1a27fe9",
   "metadata": {},
   "outputs": [
    {
     "name": "stdout",
     "output_type": "stream",
     "text": [
      "[2, 3, 5, 7, 11, 13, 17, 19]\n"
     ]
    }
   ],
   "source": [
    "'''1. Prime Number Finder\n",
    "   * Function that returns all prime numbers up to n.\n",
    "   * Input: n = 20\n",
    "   * Output: [2, 3, 5, 7, 11, 13, 17, 19]'''\n",
    "\n",
    "l=[]\n",
    "def prime(n):\n",
    "    if(n==2):\n",
    "        return 2\n",
    "    if(n>2):\n",
    "        for i in range(2,n+1):\n",
    "            for j in range(2,i):\n",
    "                if i%j==0:\n",
    "                    break\n",
    "            else:\n",
    "                l.append(i)\n",
    "        return l\n",
    "n=int(input())\n",
    "prime(n)\n",
    "print(l)"
   ]
  },
  {
   "cell_type": "code",
   "execution_count": null,
   "id": "4cc3e8f4",
   "metadata": {},
   "outputs": [
    {
     "name": "stdout",
     "output_type": "stream",
     "text": [
      "True\n"
     ]
    }
   ],
   "source": [
    "'''2. Palindrome Checker\n",
    " \n",
    "   * Check if a string is palindrome (ignoring spaces & case).\n",
    "   * Input: \"Never odd or even\"\n",
    "   * Output: True\n",
    "def palindrome(s):\n",
    "    n=len(s)\n",
    "    for i in range(1,n//2):\n",
    "        if(a[i]==a[n-i-1]):\n",
    "            return\n",
    "        else:\n",
    "            return false\n",
    "            break'''\n",
    "\n",
    "def palindrome(s):\n",
    "    a=''.join(reversed(s)).lower()\n",
    "    if(str(a)==str(s)):\n",
    "        return True\n",
    "    else:\n",
    "        return False\n",
    "s=input()\n",
    "s=s.replace(\" \",\"\").lower()\n",
    "print(palindrome(s))\n",
    " \n"
   ]
  },
  {
   "cell_type": "code",
   "execution_count": 28,
   "id": "88775f47",
   "metadata": {},
   "outputs": [
    {
     "name": "stdout",
     "output_type": "stream",
     "text": [
      "True\n"
     ]
    }
   ],
   "source": [
    "'''3. Anagram Checker\n",
    " \n",
    "   * Function checks if two words are anagrams.\n",
    "   * Input: \"listen\", \"silent\"\n",
    "   * Output: True'''\n",
    "\n",
    "def anagram(s1,s2):\n",
    "    s1=''.join(sorted(s1))\n",
    "    s2=''.join(sorted(s2))\n",
    "    if(s1==s2):\n",
    "        return True\n",
    "    else:\n",
    "        return False\n",
    "s1,s2=map(str,input().split())\n",
    "print(anagram(s1,s2))\n"
   ]
  },
  {
   "cell_type": "code",
   "execution_count": 52,
   "id": "61e10b5b",
   "metadata": {},
   "outputs": [
    {
     "name": "stdout",
     "output_type": "stream",
     "text": [
      "(2, 3)\n"
     ]
    }
   ],
   "source": [
    "'''4. Count Vowels & Consonants\n",
    " \n",
    "   * Return count of vowels & consonants.\n",
    "   * Input: \"hello\"\n",
    "   * Output: Vowels=2, Consonants=3'''\n",
    "def countv_c(s):\n",
    "    vow='aeiouAEIOU'\n",
    "    c1=c2=0\n",
    "    if s.isalpha():\n",
    "        for i in s:\n",
    "            if i in vow:\n",
    "                c1+=1\n",
    "            else:\n",
    "                c2+=1\n",
    "        return c1,c2\n",
    "s=input().strip()\n",
    "print(countv_c(s))\n",
    "# vowels, consonants = countv_c(s)\n",
    "# print(f\"Vowels={vowels}, Consonants={consonants}\")\n"
   ]
  },
  {
   "cell_type": "code",
   "execution_count": 51,
   "id": "0fd09736",
   "metadata": {},
   "outputs": [
    {
     "name": "stdout",
     "output_type": "stream",
     "text": [
      "amazing\n"
     ]
    }
   ],
   "source": [
    "'''5. Longest Word Finder\n",
    " \n",
    "* Return longest word in a sentence.\n",
    "* Input: \"Python is amazing\"\n",
    "* Output: \"amazing\"'''\n",
    "def longestword(s):\n",
    "    s=s.split()\n",
    "    return max(s,key=len)\n",
    "\n",
    "s=input()\n",
    "print(longestword(s))\n"
   ]
  },
  {
   "cell_type": "markdown",
   "id": "65034dd7",
   "metadata": {},
   "source": []
  },
  {
   "cell_type": "code",
   "execution_count": 62,
   "id": "7f566d6f",
   "metadata": {},
   "outputs": [
    {
     "name": "stdout",
     "output_type": "stream",
     "text": [
      "0dDXEf\n"
     ]
    }
   ],
   "source": [
    "'''1. Random Password Generator (random, string)\n",
    " \n",
    "* Input: length=6\n",
    "* Output: \"aB9@xQ\"'''\n",
    "\n",
    "import random\n",
    "import string\n",
    "\n",
    "def generatepass(l):\n",
    "    ch=string.ascii_letters+string.digits+string.punctuation\n",
    "    passs=''.join(random.choice(ch) for _ in range(l))\n",
    "    return passs\n",
    "l=int(input(\"length?\"))\n",
    "print(generatepass(l))\n",
    "\n",
    "\n",
    "\n",
    "\n"
   ]
  },
  {
   "cell_type": "code",
   "execution_count": null,
   "id": "daf06b34",
   "metadata": {},
   "outputs": [
    {
     "name": "stdout",
     "output_type": "stream",
     "text": [
      "5.0\n"
     ]
    }
   ],
   "source": [
    "'''2. Simple Calculator with math\n",
    " \n",
    "* Perform sqrt, factorial, sin, cos.\n",
    "* Input: sqrt(25)\n",
    "* Output: 5.0'''\n",
    "import math \n",
    "class cal():\n",
    "    def sqrt(n):\n",
    "        return math.sqrt(n)\n",
    "    def fact(n):\n",
    "        return math.fact(n)\n",
    "    def sin(n):\n",
    "        return math.sin(n)\n",
    "    def cos(n):\n",
    "        return math.cos(n)\n",
    "n=int(input())\n",
    "print(cal.sqrt(n))\n"
   ]
  },
  {
   "cell_type": "code",
   "execution_count": null,
   "id": "dedd3edf",
   "metadata": {},
   "outputs": [
    {
     "name": "stdout",
     "output_type": "stream",
     "text": [
      "{'cat': 2, 'dog': 1}\n"
     ]
    }
   ],
   "source": [
    "'''3. Word Frequency Counter (collections.Counter)\n",
    " \n",
    "* Input: \"cat dog cat\"\n",
    "* Output: {'cat':2,'dog':1}'''\n",
    "\n",
    "from collections import Counter\n",
    "def WordCounter(s):\n",
    "    words = s.split()\n",
    "    freq = Counter(words)\n",
    "    return dict(freq)\n",
    "s =input()\n",
    "print(WordCounter(s))"
   ]
  },
  {
   "cell_type": "code",
   "execution_count": 2,
   "id": "5fd39b64",
   "metadata": {},
   "outputs": [
    {
     "name": "stdout",
     "output_type": "stream",
     "text": [
      "Weather: Sunny, Temp: 31°C\n"
     ]
    }
   ],
   "source": [
    "'''4. Weather Simulator (random)\n",
    " \n",
    "* Input: None\n",
    "* Output: \"Weather: Sunny, Temp: 32°C\"'''\n",
    "import random\n",
    "def weather():\n",
    "    conditions = [\"Sunny\", \"Rainy\", \"Cloudy\", \"Windy\"]\n",
    "    weather = random.choice(conditions)\n",
    "    temp = random.randint(15, 40)\n",
    "    return f\"Weather: {weather}, Temp: {temp}°C\"\n",
    "print(weather())\n"
   ]
  },
  {
   "cell_type": "code",
   "execution_count": 5,
   "id": "e123f020",
   "metadata": {},
   "outputs": [
    {
     "name": "stdout",
     "output_type": "stream",
     "text": [
      "5\n",
      "4\n",
      "3\n",
      "2\n",
      "1\n",
      "Time's up!\n"
     ]
    }
   ],
   "source": [
    "'''5. Timer Program (time)\n",
    " \n",
    "* Input: countdown(5)\n",
    "* Output:\n",
    "  5  \n",
    "  4  \n",
    "  3  \n",
    "  2  \n",
    "  1  \n",
    "  Time’s up!'''\n",
    "\n",
    "import time\n",
    "def Timer(n):\n",
    "    for i in range(n, 0, -1):  \n",
    "        print(i)\n",
    "        time.sleep(1)         \n",
    "    print(\"Time's up!\")\n",
    "Timer(5)\n"
   ]
  },
  {
   "cell_type": "code",
   "execution_count": 1,
   "id": "2f125989",
   "metadata": {},
   "outputs": [
    {
     "name": "stdout",
     "output_type": "stream",
     "text": [
      "Current balance is 1300.\n"
     ]
    }
   ],
   "source": [
    "'''1. Bank Account Class\n",
    "Attributes:\n",
    "* balance → stores the current money in the account\n",
    "* owner (optional) → name of account holder \n",
    "Methods:\n",
    "* deposit(amount) → adds money to balance\n",
    "* withdraw(amount) → subtracts money if enough funds\n",
    "* get_balance() → returns balance\n",
    "Example:\n",
    "python\n",
    "acc = BankAccount(100)   # initial balance = 100\n",
    "acc.deposit(50)          # balance = 150\n",
    "acc.withdraw(30)         # balance = 120\n",
    "print(acc.get_balance())\n",
    "Output:\n",
    "Balance: 120'''\n",
    "class bank:\n",
    "    def __init__(self, name, balance):\n",
    "        self.name = name\n",
    "        self.balance = balance\n",
    "    \n",
    "    def deposit(self, amount):\n",
    "        self.balance += amount\n",
    "        \n",
    "    def withdraw(self, amount):\n",
    "        self.balance -= amount\n",
    "        \n",
    "    def get_balance(self):\n",
    "        print(f\"Current balance is {self.balance}.\")\n",
    "\n",
    "account = bank(\"Deeksha\", 1000)\n",
    "account.deposit(500)\n",
    "account.withdraw(200)\n",
    "account.get_balance()\n",
    "\n"
   ]
  },
  {
   "cell_type": "code",
   "execution_count": null,
   "id": "02e13302",
   "metadata": {},
   "outputs": [
    {
     "name": "stdout",
     "output_type": "stream",
     "text": [
      "85.0\n",
      "Added mark 95. Current marks: [90, 80, 85]\n",
      "90\n",
      "80\n"
     ]
    }
   ],
   "source": [
    "'''2. Student Class with Average \n",
    "Attributes:\n",
    "* name → student name\n",
    "* marks → list of student marks [90, 80, 85]\n",
    "Methods:\n",
    "* get_average() → returns average marks\n",
    "* add_mark(mark) → add new score\n",
    "* get_highest() → return highest mark\n",
    "* get_lowest() → return lowest mark\n",
    "Example:\n",
    "python\n",
    "s = Student(\"Tom\", [90, 80, 85])\n",
    "print(s.get_average())   # (90+80+85)/3 = 85.0\n",
    "s.add_mark(95)           # marks = [90,80,85,95]\n",
    "print(s.get_highest())   # 95\n",
    "Output:\n",
    "85.0\n",
    "95'''\n",
    "class Student:\n",
    "    def __init__(self, name, marks=None):\n",
    "        self.name = name\n",
    "        self.marks = marks if marks is not None else []\n",
    "\n",
    "    def get_average(self):\n",
    "        return sum(self.marks) / len(self.marks)\n",
    "\n",
    "    def add_mark(self, mark):\n",
    "        print(f\"Added mark {mark}. Current marks: {self.marks}\")\n",
    "\n",
    "    def get_highest(self):\n",
    "        return max(self.marks)\n",
    "\n",
    "    def get_lowest(self):\n",
    "        return min(self.marks)\n",
    "\n",
    "s = Student(\"Tom\", [90, 80, 85])\n",
    "print(s.get_average())   \n",
    "s.add_mark(95)           \n",
    "print(s.get_highest())   \n",
    "print(s.get_lowest())    \n",
    "\n"
   ]
  },
  {
   "cell_type": "code",
   "execution_count": 8,
   "id": "634b68a5",
   "metadata": {},
   "outputs": [
    {
     "name": "stdout",
     "output_type": "stream",
     "text": [
      "Employee: Alice\n",
      "Role: manager\n",
      "Bonus: 100000.0\n"
     ]
    }
   ],
   "source": [
    "'''3. Employee Bonus System\n",
    "Attributes:\n",
    "* name → employee name\n",
    "* salary → base salary\n",
    "* role → role of employee (e.g., Manager, Developer, Intern)\n",
    "Methods:\n",
    "* bonus() → calculates bonus depending on role:\n",
    "  * Manager → 20% of salary\n",
    "  * Developer → 10% of salary\n",
    "  * Intern → 5% of salary\n",
    "Example:\n",
    "python\n",
    "m = Manager(\"Alice\", 50000)\n",
    "print(m.bonus())\n",
    "Output:\n",
    "10000'''\n",
    "class Employee:\n",
    "    def bonus(self):\n",
    "        if self.role.lower() == \"manager\":\n",
    "            return self.salary * 0.20\n",
    "        elif self.role.lower() == \"developer\":\n",
    "            return self.salary * 0.10\n",
    "        elif self.role.lower() == \"intern\":\n",
    "            return self.salary * 0.05\n",
    "        else:\n",
    "            return 0\n",
    "\n",
    "emp = Employee()\n",
    "emp.name = input(\"employee name: \")\n",
    "emp.salary = float(input(\"salary: \"))\n",
    "emp.role = input(\"role (Manager/Developer/Intern): \")\n",
    "\n",
    "print(f\"Employee: {emp.name}\")\n",
    "print(f\"Role: {emp.role}\")\n",
    "print(f\"Bonus: {emp.bonus()}\")\n"
   ]
  },
  {
   "cell_type": "code",
   "execution_count": null,
   "id": "3cafe1d2",
   "metadata": {},
   "outputs": [
    {
     "name": "stdout",
     "output_type": "stream",
     "text": [
      "Area of Circle: 452.39\n"
     ]
    }
   ],
   "source": [
    "# 4. Shape Area Calculator\n",
    "import math\n",
    "class Shape:\n",
    "    def area(self):\n",
    "        return 0   \n",
    "\n",
    "class Circle(Shape):\n",
    "    def area(self):\n",
    "        return round(math.pi * self.radius ** 2, 2)\n",
    "\n",
    "class Rectangle(Shape):\n",
    "    def area(self):\n",
    "        return self.width * self.height\n",
    "\n",
    "choice = input(\"shape (circle/rectangle): \").lower()\n",
    "\n",
    "if choice == \"circle\":\n",
    "    c = Circle()\n",
    "    c.radius = float(input(\"radius: \"))\n",
    "    print(\"Area of Circle:\", c.area())\n",
    "\n",
    "elif choice == \"rectangle\":\n",
    "    r = Rectangle()\n",
    "    r.width = float(input(\"width: \"))\n",
    "    r.height = float(input(\"height: \"))\n",
    "    print(\"Area of Rectangle:\", r.area())"
   ]
  },
  {
   "cell_type": "code",
   "execution_count": null,
   "id": "c2b48a15",
   "metadata": {},
   "outputs": [],
   "source": []
  },
  {
   "cell_type": "code",
   "execution_count": 2,
   "id": "b3a8d1f4",
   "metadata": {},
   "outputs": [],
   "source": [
    "#assignment"
   ]
  },
  {
   "cell_type": "code",
   "execution_count": null,
   "id": "77a16d96",
   "metadata": {},
   "outputs": [
    {
     "name": "stdout",
     "output_type": "stream",
     "text": [
      "[0, 1, 1, 2, 3, 5, 8]\n"
     ]
    }
   ],
   "source": [
    "#fibbonaci\n",
    "def fibonacci(n):\n",
    "    seq = [0, 1]\n",
    "    for i in range(2, n):\n",
    "        seq.append(seq[-1] + seq[-2])\n",
    "    return seq[:n]\n",
    "\n",
    "print(fibonacci(int(input())))\n"
   ]
  },
  {
   "cell_type": "code",
   "execution_count": null,
   "id": "014cc43e",
   "metadata": {},
   "outputs": [
    {
     "name": "stdout",
     "output_type": "stream",
     "text": [
      "24\n"
     ]
    }
   ],
   "source": [
    "#fact\n",
    "def fact(n):\n",
    "    if n == 0:\n",
    "        return 1  \n",
    "    else:\n",
    "        return n * fact(n - 1)\n",
    "\n",
    "print(fact(int(input())))\n"
   ]
  },
  {
   "cell_type": "code",
   "execution_count": null,
   "id": "d36b2e69",
   "metadata": {},
   "outputs": [
    {
     "name": "stdout",
     "output_type": "stream",
     "text": [
      "{'apple': 2, 'banana': 2, 'orange': 1}\n"
     ]
    }
   ],
   "source": [
    "#word count\n",
    "from collections import Counter\n",
    "s = input()\n",
    "print(dict(Counter(s.split())))\n"
   ]
  },
  {
   "cell_type": "code",
   "execution_count": null,
   "id": "5eb0f867",
   "metadata": {},
   "outputs": [
    {
     "name": "stdout",
     "output_type": "stream",
     "text": [
      "Grade: B\n"
     ]
    }
   ],
   "source": [
    "#grade\n",
    "marks = list(map(int, input().split()))\n",
    "avg = sum(marks) / len(marks)\n",
    "if avg >= 85: \n",
    "    print(\"Grade: A\")\n",
    "elif avg >= 70: \n",
    "    print(\"Grade: B\")\n",
    "else: \n",
    "    print(\"Grade: C\")\n"
   ]
  },
  {
   "cell_type": "code",
   "execution_count": null,
   "id": "eb697206",
   "metadata": {},
   "outputs": [
    {
     "name": "stdout",
     "output_type": "stream",
     "text": [
      "10\n"
     ]
    }
   ],
   "source": [
    "#2nd largest\n",
    "nums = list(map(int, input().split()))\n",
    "nums.sort()\n",
    "print(nums[-2])\n"
   ]
  },
  {
   "cell_type": "code",
   "execution_count": 8,
   "id": "32950a17",
   "metadata": {},
   "outputs": [
    {
     "name": "stdout",
     "output_type": "stream",
     "text": [
      "Text files:  1\n",
      "Python files:  1\n"
     ]
    }
   ],
   "source": [
    "#text and py files\n",
    "import os\n",
    "\n",
    "def count_files():\n",
    "    files = input().split()\n",
    "    txt = 0\n",
    "    py = 0\n",
    "\n",
    "    for file in files:\n",
    "        if file.endswith('.txt'):\n",
    "            txt += 1\n",
    "        elif file.endswith('.py'):\n",
    "            py += 1\n",
    "\n",
    "    print(\"Text files: \",txt)\n",
    "    print(\"Python files: \",py)\n",
    "\n",
    "count_files()"
   ]
  },
  {
   "cell_type": "code",
   "execution_count": 9,
   "id": "147b5140",
   "metadata": {},
   "outputs": [
    {
     "name": "stdout",
     "output_type": "stream",
     "text": [
      "Mean: 87.86\n",
      "Median: 90\n",
      "Variance: 73.81\n"
     ]
    }
   ],
   "source": [
    "# Use `statistics` to calculate the mean, median, and variance of student exam scores.\n",
    "\n",
    "import statistics\n",
    "\n",
    "def stats(score):\n",
    "    mean = statistics.mean(score)\n",
    "    median = statistics.median(score)\n",
    "    variance = statistics.variance(score)\n",
    "\n",
    "    print(\"Mean:\", round(mean,2))\n",
    "    print(\"Median:\", median)\n",
    "    print(\"Variance:\", round(variance,2))\n",
    "\n",
    "score = list(map(int, input(\"Enter the elements: \").split()))\n",
    "stats(score)"
   ]
  },
  {
   "cell_type": "code",
   "execution_count": 10,
   "id": "c7be6f81",
   "metadata": {},
   "outputs": [
    {
     "name": "stdout",
     "output_type": "stream",
     "text": [
      "(2.0, 1.0)\n"
     ]
    }
   ],
   "source": [
    "# `math` module to solve quadratic equations of the form `ax² + bx + c = 0`.\n",
    " \n",
    "import math\n",
    "\n",
    "def equa(a,b,c):\n",
    "    d = b**2 - 4*a*c\n",
    "    if d > 0:\n",
    "        r1 = (-b + math.sqrt(d)) / (2*a)\n",
    "        r2 = (-b - math.sqrt(d)) / (2*a)\n",
    "        return (r1, r2)\n",
    "    elif d == 0:\n",
    "        r = -b / (2*a)\n",
    "        return (r,)\n",
    "    else:\n",
    "        return None\n",
    "    \n",
    "a = int(input(\"a: \"))\n",
    "b = int(input(\"b: \"))\n",
    "c = int(input(\"c: \"))\n",
    "print(equa(a,b,c))"
   ]
  },
  {
   "cell_type": "code",
   "execution_count": 11,
   "id": "59974559",
   "metadata": {},
   "outputs": [
    {
     "name": "stdout",
     "output_type": "stream",
     "text": [
      "Computer chose: scissors\n",
      "You win!\n"
     ]
    }
   ],
   "source": [
    "# Rock Paper Scissors Game\n",
    "import random\n",
    "def rps():\n",
    "    l = ['rock', 'paper', 'scissors']\n",
    "    user = input(\"(rock/paper/scissors): \").lower()\n",
    "    comp = random.choice(l)\n",
    "    print(\"Computer chose:\", comp)\n",
    "    if user == comp:\n",
    "        return \"tie!\"\n",
    "    elif (user == 'rock' and comp == 'scissors') or \\\n",
    "         (user == 'paper' and comp == 'rock') or \\\n",
    "         (user == 'scissors' and comp == 'paper'):\n",
    "        return \"You win!\"\n",
    "    else:\n",
    "        return \"Computer wins!\"\n",
    "    \n",
    "print(rps())"
   ]
  },
  {
   "cell_type": "code",
   "execution_count": 18,
   "id": "7a48da13",
   "metadata": {},
   "outputs": [],
   "source": [
    "#Sum from command Line\n",
    "import sys\n",
    "def add_numbers():\n",
    "    args=sys.argv[1:]\n",
    "    nums=list(map(int,args))\n",
    "    print(\"Sum=\",sum(nums))"
   ]
  },
  {
   "cell_type": "code",
   "execution_count": 19,
   "id": "ed79441e",
   "metadata": {},
   "outputs": [
    {
     "name": "stdout",
     "output_type": "stream",
     "text": [
      "You borrowed Python 101\n",
      "You returned Python 101\n",
      "Available books: {'Python 101': 3, 'Data Science': 2}\n"
     ]
    }
   ],
   "source": [
    "#Library System\n",
    "class Library:\n",
    "    def __init__(self,books):\n",
    "        self.books=books\n",
    "    def borrow(self,title):\n",
    "        if title in self.books and self.books[title] > 0:\n",
    "            self.books[title]-=1\n",
    "            return f\"You borrowed {title}\"\n",
    "        return f\"{title} not available\"\n",
    "    def return_book(self,title):\n",
    "        if title in self.books:\n",
    "            self.books[title]+=1\n",
    "            return f\"You returned {title}\"\n",
    "        return f\"{title} not in library\"\n",
    "    def show_books(self):\n",
    "        print(\"Available books:\", self.books)\n",
    "lib = Library({\"Python 101\":3,\"Data Science\":2})\n",
    "print(lib.borrow(\"Python 101\"))\n",
    "print(lib.return_book(\"Python 101\"))\n",
    "lib.show_books()"
   ]
  },
  {
   "cell_type": "code",
   "execution_count": 22,
   "id": "3c8c2e4d",
   "metadata": {},
   "outputs": [
    {
     "name": "stdout",
     "output_type": "stream",
     "text": [
      "Access Granted\n",
      "Deposited 200\n",
      "Withdrew 100\n",
      "Balance: 600\n"
     ]
    }
   ],
   "source": [
    "#ATM Machine with PIN\n",
    "class atm_1:\n",
    "    def __init__(self,pin,balance):\n",
    "        self.pin=pin\n",
    "        self.balance=balance\n",
    "        self.is_authenticated=False\n",
    "    def login(self,pin):\n",
    "        if pin==self.pin:\n",
    "            self.is_authenticated=True\n",
    "            return \"Access Granted\"\n",
    "        return \"Wrong PIN\"\n",
    "    def check_balance(self):\n",
    "        if self.is_authenticated:\n",
    "            return f\"Balance: {self.balance}\"\n",
    "    def deposit(self,amount):\n",
    "        if self.is_authenticated:\n",
    "            self.balance+=amount\n",
    "            return f\"Deposited {amount}\"\n",
    "    def withdraw(self,amount):\n",
    "        if self.is_authenticated:\n",
    "            if amount>self.balance:\n",
    "                return \"Insufficient funds\"\n",
    "            self.balance-=amount\n",
    "            return f\"Withdrew {amount}\"\n",
    "atm = atm_1(1234,500)\n",
    "print(atm.login(1234))\n",
    "print(atm.deposit(200))\n",
    "print(atm.withdraw(100))\n",
    "print(atm.check_balance())"
   ]
  },
  {
   "cell_type": "code",
   "execution_count": 24,
   "id": "f2bdeff1",
   "metadata": {},
   "outputs": [
    {
     "name": "stdout",
     "output_type": "stream",
     "text": [
      "Dr. Smith is teaching Python\n",
      "Alice enrolled in Python\n",
      "Dr. Smith assigned: Project 1\n",
      "Alice submitted: Project 1\n"
     ]
    }
   ],
   "source": [
    "#University Sytem\n",
    "class Professor:\n",
    "    def __init__(self,name,subject):\n",
    "        self.name=name\n",
    "        self.subject=subject\n",
    "    def teach(self,course):\n",
    "        return f\"{self.name} is teaching {course}\"\n",
    "    def give_assignment(self,task):\n",
    "        return f\"{self.name} assigned: {task}\"\n",
    "class Student:\n",
    "    def __init__(self,name):\n",
    "        self.name=name\n",
    "        self.courses=[]\n",
    "        self.assignments=[]\n",
    "    def enroll(self,course):\n",
    "        self.courses.append(course)\n",
    "        return f\"{self.name} enrolled in {course}\"\n",
    "    def submit_assign(self,task):\n",
    "        self.assignments.append(task)\n",
    "        return f\"{self.name} submitted: {task}\"\n",
    "prof = Professor(\"Dr. Smith\", \"Computer Science\")\n",
    "stud = Student(\"Alice\")\n",
    "print(prof.teach(\"Python\"))\n",
    "print(stud.enroll(\"Python\"))\n",
    "print(prof.give_assignment(\"Project 1\"))\n",
    "print(stud.submit_assign(\"Project 1\"))"
   ]
  },
  {
   "cell_type": "code",
   "execution_count": 25,
   "id": "ddeae4a1",
   "metadata": {},
   "outputs": [
    {
     "name": "stdout",
     "output_type": "stream",
     "text": [
      "Booked 2 tickets for Avatar\n",
      "Cancelled 1 ticket for Avatar\n",
      "Movies: {'Avatar': 9, 'Batman': 5}\n"
     ]
    }
   ],
   "source": [
    "#Movie Ticket Booking\n",
    "class Cinema:\n",
    "    def __init__(self,movies):\n",
    "        self.movies=movies\n",
    "    def book(self,movie,seats):\n",
    "        if(movie in self.movies and self.movies[movie]>=seats):\n",
    "            self.movies[movie]-=seats\n",
    "            return f\"Booked {seats} tickets for {movie}\"\n",
    "        return \"Not enough seats\"\n",
    "    def cancel(self,movie,seats):\n",
    "        if(movie in self.movies):\n",
    "            self.movies[movie]+=seats\n",
    "            return f\"Cancelled {seats} ticket for {movie}\"\n",
    "    def show_movies(self):\n",
    "        print(\"Movies:\",self.movies)\n",
    "cinema = Cinema({\"Avatar\":10,\"Batman\":5})\n",
    "print(cinema.book(\"Avatar\",2))\n",
    "print(cinema.cancel(\"Avatar\",1))\n",
    "cinema.show_movies()"
   ]
  },
  {
   "cell_type": "code",
   "execution_count": 26,
   "id": "e535f3ac",
   "metadata": {},
   "outputs": [
    {
     "name": "stdout",
     "output_type": "stream",
     "text": [
      "Burger added\n",
      "Pizza added\n",
      "Pizza price updated to 250\n",
      "Burger removed\n",
      "Menu: {'Pizza': 250}\n"
     ]
    }
   ],
   "source": [
    "#Restaurant Menu\n",
    "class Menu:\n",
    "    def __init__(self):\n",
    "        self.items={}\n",
    "    def add_item(self,name,price):\n",
    "        self.items[name]=price\n",
    "        return f\"{name} added\"\n",
    "    def remove_item(self,name):\n",
    "        if name in self.items:\n",
    "            del self.items[name]\n",
    "            return f\"{name} removed\"\n",
    "    def update_price(self,name,new_price):\n",
    "        if name in self.items:\n",
    "            self.items[name]=new_price\n",
    "            return f\"{name} price updated to {new_price}\"\n",
    "    def show_menu(self):\n",
    "        print(\"Menu:\", self.items)\n",
    "menu=Menu()\n",
    "print(menu.add_item(\"Burger\",100))\n",
    "print(menu.add_item(\"Pizza\",200))\n",
    "print(menu.update_price(\"Pizza\",250))\n",
    "print(menu.remove_item(\"Burger\"))\n",
    "menu.show_menu()"
   ]
  },
  {
   "cell_type": "code",
   "execution_count": null,
   "id": "468bcfbc",
   "metadata": {},
   "outputs": [],
   "source": []
  }
 ],
 "metadata": {
  "kernelspec": {
   "display_name": "Python 3",
   "language": "python",
   "name": "python3"
  },
  "language_info": {
   "codemirror_mode": {
    "name": "ipython",
    "version": 3
   },
   "file_extension": ".py",
   "mimetype": "text/x-python",
   "name": "python",
   "nbconvert_exporter": "python",
   "pygments_lexer": "ipython3",
   "version": "3.10.11"
  }
 },
 "nbformat": 4,
 "nbformat_minor": 5
}
